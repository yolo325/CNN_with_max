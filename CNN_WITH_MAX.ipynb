{
  "cells": [
    {
      "cell_type": "code",
      "source": [
        "pip install Keras-Preprocessing"
      ],
      "metadata": {
        "colab": {
          "base_uri": "https://localhost:8080/"
        },
        "id": "WTXmoKpORC7t",
        "outputId": "438b1dd0-a8bf-4ea8-ad04-fac998990d94"
      },
      "id": "WTXmoKpORC7t",
      "execution_count": null,
      "outputs": [
        {
          "output_type": "stream",
          "name": "stdout",
          "text": [
            "Looking in indexes: https://pypi.org/simple, https://us-python.pkg.dev/colab-wheels/public/simple/\n",
            "Collecting Keras-Preprocessing\n",
            "  Downloading Keras_Preprocessing-1.1.2-py2.py3-none-any.whl (42 kB)\n",
            "\u001b[2K     \u001b[90m━━━━━━━━━━━━━━━━━━━━━━━━━━━━━━━━━━━━━━━━\u001b[0m \u001b[32m42.6/42.6 kB\u001b[0m \u001b[31m4.4 MB/s\u001b[0m eta \u001b[36m0:00:00\u001b[0m\n",
            "\u001b[?25hRequirement already satisfied: numpy>=1.9.1 in /usr/local/lib/python3.10/dist-packages (from Keras-Preprocessing) (1.22.4)\n",
            "Requirement already satisfied: six>=1.9.0 in /usr/local/lib/python3.10/dist-packages (from Keras-Preprocessing) (1.16.0)\n",
            "Installing collected packages: Keras-Preprocessing\n",
            "Successfully installed Keras-Preprocessing-1.1.2\n"
          ]
        }
      ]
    },
    {
      "cell_type": "code",
      "execution_count": null,
      "id": "7ad8c443",
      "metadata": {
        "colab": {
          "base_uri": "https://localhost:8080/"
        },
        "id": "7ad8c443",
        "outputId": "46f37bb6-274e-4519-aa72-f9cdbb3517de"
      },
      "outputs": [
        {
          "output_type": "stream",
          "name": "stderr",
          "text": [
            "[nltk_data] Downloading package wordnet to /root/nltk_data...\n",
            "[nltk_data] Downloading package stopwords to /root/nltk_data...\n",
            "[nltk_data]   Unzipping corpora/stopwords.zip.\n",
            "[nltk_data] Downloading package punkt to /root/nltk_data...\n",
            "[nltk_data]   Unzipping tokenizers/punkt.zip.\n"
          ]
        }
      ],
      "source": [
        "import numpy as np\n",
        "import pandas as pd\n",
        "import matplotlib.pyplot as plt\n",
        "import keras\n",
        "from warnings import filterwarnings\n",
        "filterwarnings('ignore')\n",
        "import os\n",
        "import plotly.graph_objects as go\n",
        "from plotly.offline import iplot, init_notebook_mode\n",
        "import plotly.express as px\n",
        "import plotly.io as pio\n",
        "from nltk.corpus import stopwords\n",
        "from nltk import word_tokenize\n",
        "import time\n",
        "import re\n",
        "import warnings\n",
        "warnings.filterwarnings('ignore')\n",
        "\n",
        "import seaborn as sns\n",
        "import statsmodels.api as sma\n",
        "import statsmodels.formula.api as smfa\n",
        "import statsmodels.tsa.stattools as smstt\n",
        "import statsmodels.api as sm\n",
        "import statsmodels.formula.api as smf\n",
        "from statsmodels.tsa.stattools import adfuller\n",
        "%matplotlib inline\n",
        "\n",
        "import nltk\n",
        "from nltk.corpus import stopwords\n",
        "nltk.download('wordnet')\n",
        "nltk.download('stopwords')\n",
        "from nltk.tokenize import word_tokenize\n",
        "from nltk.tokenize import TweetTokenizer\n",
        "from nltk.corpus import stopwords\n",
        "from nltk.stem.wordnet import WordNetLemmatizer\n",
        "from nltk.stem.snowball import SnowballStemmer\n",
        "from nltk.stem import WordNetLemmatizer\n",
        "from nltk import word_tokenize\n",
        "import string\n",
        "nltk.download('punkt')\n",
        "from sklearn.preprocessing import MaxAbsScaler\n",
        "from sklearn.linear_model import LogisticRegression\n",
        "from sklearn.metrics import classification_report, roc_auc_score\n",
        "from sklearn.feature_extraction.text import TfidfVectorizer\n",
        "from sklearn.feature_extraction.text import CountVectorizer\n",
        "from sklearn.model_selection import train_test_split\n",
        "from sklearn.svm import LinearSVC\n",
        "from sklearn.metrics import accuracy_score\n",
        "from sklearn import metrics\n",
        "from imblearn.over_sampling import RandomOverSampler\n",
        "\n",
        "from tqdm import tqdm, trange\n",
        "import io\n",
        "import logging\n",
        "import sklearn\n",
        "import torch\n",
        "import torchvision\n",
        "import nltk\n",
        "from sklearn.preprocessing import LabelEncoder\n",
        "from keras.utils import to_categorical\n",
        "from keras.models import Sequential\n",
        "from keras.layers import Dense, Dropout\n",
        "from keras.optimizers import Adam\n",
        "from keras.utils import plot_model\n",
        "from keras.losses import categorical_crossentropy\n",
        "from sklearn.metrics import accuracy_score, confusion_matrix\n",
        "from keras.preprocessing.text import one_hot\n",
        "from keras_preprocessing.sequence import pad_sequences\n",
        "from keras.layers import Embedding, Conv1D, MaxPooling1D, Flatten\n",
        "from keras.layers import Activation, GlobalMaxPool1D\n",
        "from keras.layers import Embedding, Conv1D, Dense, Dropout, GlobalMaxPooling1D\n",
        "from sklearn.metrics import accuracy_score, confusion_matrix\n",
        "from sklearn.metrics import classification_report, roc_auc_score\n",
        "from tensorflow.keras.utils import plot_model"
      ]
    },
    {
      "cell_type": "code",
      "execution_count": null,
      "id": "be0e971a",
      "metadata": {
        "colab": {
          "base_uri": "https://localhost:8080/",
          "height": 206
        },
        "id": "be0e971a",
        "outputId": "04b113b8-4c55-450b-dda4-e7975d9442c0"
      },
      "outputs": [
        {
          "output_type": "execute_result",
          "data": {
            "text/plain": [
              "                                                  Text Syndrome\n",
              "705   I had always been treated with antidepressant...  Bipolar\n",
              "706  I couldn't sleep. At one time I got about 12 h...  Bipolar\n",
              "707  I almost only get mixed states that come with ...  Bipolar\n",
              "708   I've gone much of my life. Anywho...\\nI had a...  Bipolar\n",
              "709  My boyfriend has been my biggest support for t...  Bipolar"
            ],
            "text/html": [
              "\n",
              "  <div id=\"df-6a7b913a-80ab-40b1-9381-87b6b64595e1\">\n",
              "    <div class=\"colab-df-container\">\n",
              "      <div>\n",
              "<style scoped>\n",
              "    .dataframe tbody tr th:only-of-type {\n",
              "        vertical-align: middle;\n",
              "    }\n",
              "\n",
              "    .dataframe tbody tr th {\n",
              "        vertical-align: top;\n",
              "    }\n",
              "\n",
              "    .dataframe thead th {\n",
              "        text-align: right;\n",
              "    }\n",
              "</style>\n",
              "<table border=\"1\" class=\"dataframe\">\n",
              "  <thead>\n",
              "    <tr style=\"text-align: right;\">\n",
              "      <th></th>\n",
              "      <th>Text</th>\n",
              "      <th>Syndrome</th>\n",
              "    </tr>\n",
              "  </thead>\n",
              "  <tbody>\n",
              "    <tr>\n",
              "      <th>705</th>\n",
              "      <td>I had always been treated with antidepressant...</td>\n",
              "      <td>Bipolar</td>\n",
              "    </tr>\n",
              "    <tr>\n",
              "      <th>706</th>\n",
              "      <td>I couldn't sleep. At one time I got about 12 h...</td>\n",
              "      <td>Bipolar</td>\n",
              "    </tr>\n",
              "    <tr>\n",
              "      <th>707</th>\n",
              "      <td>I almost only get mixed states that come with ...</td>\n",
              "      <td>Bipolar</td>\n",
              "    </tr>\n",
              "    <tr>\n",
              "      <th>708</th>\n",
              "      <td>I've gone much of my life. Anywho...\\nI had a...</td>\n",
              "      <td>Bipolar</td>\n",
              "    </tr>\n",
              "    <tr>\n",
              "      <th>709</th>\n",
              "      <td>My boyfriend has been my biggest support for t...</td>\n",
              "      <td>Bipolar</td>\n",
              "    </tr>\n",
              "  </tbody>\n",
              "</table>\n",
              "</div>\n",
              "      <button class=\"colab-df-convert\" onclick=\"convertToInteractive('df-6a7b913a-80ab-40b1-9381-87b6b64595e1')\"\n",
              "              title=\"Convert this dataframe to an interactive table.\"\n",
              "              style=\"display:none;\">\n",
              "        \n",
              "  <svg xmlns=\"http://www.w3.org/2000/svg\" height=\"24px\"viewBox=\"0 0 24 24\"\n",
              "       width=\"24px\">\n",
              "    <path d=\"M0 0h24v24H0V0z\" fill=\"none\"/>\n",
              "    <path d=\"M18.56 5.44l.94 2.06.94-2.06 2.06-.94-2.06-.94-.94-2.06-.94 2.06-2.06.94zm-11 1L8.5 8.5l.94-2.06 2.06-.94-2.06-.94L8.5 2.5l-.94 2.06-2.06.94zm10 10l.94 2.06.94-2.06 2.06-.94-2.06-.94-.94-2.06-.94 2.06-2.06.94z\"/><path d=\"M17.41 7.96l-1.37-1.37c-.4-.4-.92-.59-1.43-.59-.52 0-1.04.2-1.43.59L10.3 9.45l-7.72 7.72c-.78.78-.78 2.05 0 2.83L4 21.41c.39.39.9.59 1.41.59.51 0 1.02-.2 1.41-.59l7.78-7.78 2.81-2.81c.8-.78.8-2.07 0-2.86zM5.41 20L4 18.59l7.72-7.72 1.47 1.35L5.41 20z\"/>\n",
              "  </svg>\n",
              "      </button>\n",
              "      \n",
              "  <style>\n",
              "    .colab-df-container {\n",
              "      display:flex;\n",
              "      flex-wrap:wrap;\n",
              "      gap: 12px;\n",
              "    }\n",
              "\n",
              "    .colab-df-convert {\n",
              "      background-color: #E8F0FE;\n",
              "      border: none;\n",
              "      border-radius: 50%;\n",
              "      cursor: pointer;\n",
              "      display: none;\n",
              "      fill: #1967D2;\n",
              "      height: 32px;\n",
              "      padding: 0 0 0 0;\n",
              "      width: 32px;\n",
              "    }\n",
              "\n",
              "    .colab-df-convert:hover {\n",
              "      background-color: #E2EBFA;\n",
              "      box-shadow: 0px 1px 2px rgba(60, 64, 67, 0.3), 0px 1px 3px 1px rgba(60, 64, 67, 0.15);\n",
              "      fill: #174EA6;\n",
              "    }\n",
              "\n",
              "    [theme=dark] .colab-df-convert {\n",
              "      background-color: #3B4455;\n",
              "      fill: #D2E3FC;\n",
              "    }\n",
              "\n",
              "    [theme=dark] .colab-df-convert:hover {\n",
              "      background-color: #434B5C;\n",
              "      box-shadow: 0px 1px 3px 1px rgba(0, 0, 0, 0.15);\n",
              "      filter: drop-shadow(0px 1px 2px rgba(0, 0, 0, 0.3));\n",
              "      fill: #FFFFFF;\n",
              "    }\n",
              "  </style>\n",
              "\n",
              "      <script>\n",
              "        const buttonEl =\n",
              "          document.querySelector('#df-6a7b913a-80ab-40b1-9381-87b6b64595e1 button.colab-df-convert');\n",
              "        buttonEl.style.display =\n",
              "          google.colab.kernel.accessAllowed ? 'block' : 'none';\n",
              "\n",
              "        async function convertToInteractive(key) {\n",
              "          const element = document.querySelector('#df-6a7b913a-80ab-40b1-9381-87b6b64595e1');\n",
              "          const dataTable =\n",
              "            await google.colab.kernel.invokeFunction('convertToInteractive',\n",
              "                                                     [key], {});\n",
              "          if (!dataTable) return;\n",
              "\n",
              "          const docLinkHtml = 'Like what you see? Visit the ' +\n",
              "            '<a target=\"_blank\" href=https://colab.research.google.com/notebooks/data_table.ipynb>data table notebook</a>'\n",
              "            + ' to learn more about interactive tables.';\n",
              "          element.innerHTML = '';\n",
              "          dataTable['output_type'] = 'display_data';\n",
              "          await google.colab.output.renderOutput(dataTable, element);\n",
              "          const docLink = document.createElement('div');\n",
              "          docLink.innerHTML = docLinkHtml;\n",
              "          element.appendChild(docLink);\n",
              "        }\n",
              "      </script>\n",
              "    </div>\n",
              "  </div>\n",
              "  "
            ]
          },
          "metadata": {},
          "execution_count": 3
        }
      ],
      "source": [
        "df = pd.read_csv('/content/sample_data/Лист1.csv - final psycho - final psycho - Лист1.csv.csv.csv')\n",
        "df.tail()"
      ]
    },
    {
      "cell_type": "code",
      "execution_count": null,
      "id": "e7019b4f",
      "metadata": {
        "id": "e7019b4f"
      },
      "outputs": [],
      "source": [
        "from nltk.corpus import stopwords\n",
        "all_stopwords = stopwords.words('english')\n",
        "all_stopwords.remove('i')\n",
        "all_stopwords.remove('me')\n",
        "all_stopwords.remove('my')"
      ]
    },
    {
      "cell_type": "code",
      "execution_count": null,
      "id": "6b15d480",
      "metadata": {
        "id": "6b15d480"
      },
      "outputs": [],
      "source": [
        "df['Text_without_stopwords'] = df['Text'].apply(lambda x: ' '.join([word for word in x.split() if word not in (all_stopwords)]))"
      ]
    },
    {
      "cell_type": "code",
      "execution_count": null,
      "id": "0e00519f",
      "metadata": {
        "id": "0e00519f"
      },
      "outputs": [],
      "source": [
        "def remove_extra_white_spaces(text):\n",
        "    single_char_pattern = r'\\s+[a-zA-Z]\\s+'\n",
        "    without_sc = re.sub(pattern=single_char_pattern, repl=\" \", string=text)\n",
        "    return without_sc"
      ]
    },
    {
      "cell_type": "code",
      "execution_count": null,
      "id": "dec26227",
      "metadata": {
        "id": "dec26227"
      },
      "outputs": [],
      "source": [
        "def remove_numbers(text):\n",
        "    number_pattern = r'\\d+'\n",
        "    without_number = re.sub(pattern=number_pattern, repl=\" \", string=text)\n",
        "    return without_number"
      ]
    },
    {
      "cell_type": "code",
      "execution_count": null,
      "id": "53e857e8",
      "metadata": {
        "id": "53e857e8"
      },
      "outputs": [],
      "source": [
        "def remove_punctuation(text):\n",
        "    return text.translate(str.maketrans('', '', string.punctuation))"
      ]
    },
    {
      "cell_type": "code",
      "execution_count": null,
      "id": "43b275aa",
      "metadata": {
        "id": "43b275aa"
      },
      "outputs": [],
      "source": [
        "def lower(text):\n",
        "    stroka = text.lower()\n",
        "    return stroka"
      ]
    },
    {
      "cell_type": "code",
      "execution_count": null,
      "id": "b23e8d4f",
      "metadata": {
        "id": "b23e8d4f"
      },
      "outputs": [],
      "source": [
        "def stemmer(text):\n",
        "    tweet = TweetTokenizer()\n",
        "    tokens = tweet.tokenize(text)\n",
        "\n",
        "    stemmer = nltk.SnowballStemmer('english')\n",
        "\n",
        "    for i in range(len(tokens)):\n",
        "        stem_word = stemmer.stem(tokens[i])\n",
        "        tokens[i] = stem_word\n",
        "    return \" \".join(tokens)"
      ]
    },
    {
      "cell_type": "code",
      "execution_count": null,
      "id": "264eb1ad",
      "metadata": {
        "id": "264eb1ad"
      },
      "outputs": [],
      "source": [
        "df['Text_without_stopwords'] = df['Text_without_stopwords'].apply(lambda x:  lower(x))"
      ]
    },
    {
      "cell_type": "code",
      "execution_count": null,
      "id": "c2a2fc14",
      "metadata": {
        "id": "c2a2fc14"
      },
      "outputs": [],
      "source": [
        "df['Text_without_stopwords'] = df['Text_without_stopwords'].apply(lambda x:  stemmer(x))"
      ]
    },
    {
      "cell_type": "code",
      "execution_count": null,
      "id": "143f5e8b",
      "metadata": {
        "id": "143f5e8b"
      },
      "outputs": [],
      "source": [
        "df['Text_without_stopwords'] = df['Text_without_stopwords'].apply(lambda x:  remove_punctuation(x))"
      ]
    },
    {
      "cell_type": "code",
      "execution_count": null,
      "id": "da5f314c",
      "metadata": {
        "id": "da5f314c"
      },
      "outputs": [],
      "source": [
        "df['Text_without_stopwords'] = df['Text_without_stopwords'].apply(lambda x:  remove_extra_white_spaces(x))"
      ]
    },
    {
      "cell_type": "code",
      "execution_count": null,
      "id": "88663ed3",
      "metadata": {
        "id": "88663ed3"
      },
      "outputs": [],
      "source": [
        "df['Text_without_stopwords'] = df['Text_without_stopwords'].apply(lambda x:  remove_numbers(x))"
      ]
    },
    {
      "cell_type": "code",
      "execution_count": null,
      "id": "cf796335",
      "metadata": {
        "id": "cf796335"
      },
      "outputs": [],
      "source": [
        "def leadMyWord(text):\n",
        "    text = re.sub('[^a-zA-Z]',\" \",text) # заменяет все символы, кроме букв английского алфавита (как в верхнем, так и в нижнем регистре), на пробелы\n",
        "    return text\n",
        "\n",
        "textList = df.Text_without_stopwords.apply(leadMyWord)\n",
        "textList = list(textList)"
      ]
    },
    {
      "cell_type": "code",
      "execution_count": null,
      "id": "df2b6375",
      "metadata": {
        "collapsed": true,
        "colab": {
          "base_uri": "https://localhost:8080/"
        },
        "id": "df2b6375",
        "outputId": "af0e8077-0a42-4b89-ec55-9cfd75405e83"
      },
      "outputs": [
        {
          "output_type": "stream",
          "name": "stdout",
          "text": [
            "LabelEncode\n",
            "[1 1 1 1 1 1 1 1 1 1 1 1 1 1 1 1 1 1 1 1 1 1 1 1 1 1 1 1 1 1 1 1 1 1 1 1 1\n",
            " 1 1 1 1 1 1 1 1 1 1 1 1 1 1 1 1 1 1 1 1 1 1 1 1 1 1 1 1 1 1 1 1 1 1 1 1 1\n",
            " 1 1 1 1 1 1 1 1 1 1 1 1 1 1 1 1 1 1 1 1 1 1 1 1 1 1 1 6 6 6 6 6 6 6 6 6 6\n",
            " 6 6 6 6 6 6 6 6 6 6 6 6 6 6 6 6 6 6 6 6 6 6 6 6 6 6 6 6 6 6 6 6 6 6 6 6 6\n",
            " 6 6 6 6 6 6 6 6 6 6 6 6 6 6 6 6 6 6 6 6 6 6 6 6 6 6 6 6 6 6 6 6 6 6 6 6 6\n",
            " 6 6 6 6 6 6 6 6 6 6 6 6 6 6 6 6 2 2 2 2 2 2 2 2 2 2 2 2 2 2 2 2 2 2 2 2 2\n",
            " 2 2 2 2 2 2 2 2 2 2 2 2 2 2 2 2 2 2 2 2 2 2 2 2 2 2 2 2 2 2 2 2 2 2 2 2 2\n",
            " 2 2 2 2 2 2 2 2 2 2 2 2 2 2 2 2 2 2 2 2 2 2 2 2 2 2 2 2 2 2 2 2 2 2 2 2 2\n",
            " 2 2 2 2 2 2 0 0 0 0 0 0 0 0 0 0 0 0 0 0 0 0 0 0 0 0 0 0 0 0 0 0 0 0 0 0 0\n",
            " 0 0 0 0 0 0 0 0 0 0 0 0 0 0 0 0 0 0 0 0 0 0 0 0 0 0 0 0 0 0 0 0 0 0 0 0 0\n",
            " 0 0 0 0 0 0 0 0 0 0 0 0 0 0 0 0 0 0 0 0 0 0 0 0 0 0 0 0 0 0 0 0 0 5 5 5 5\n",
            " 5 5 5 5 5 5 5 5 5 5 5 5 5 5 5 5 5 5 5 5 5 5 5 5 5 5 5 5 5 5 5 5 5 5 5 5 5\n",
            " 5 5 5 5 5 5 5 5 5 5 5 5 5 5 5 5 5 5 5 5 5 5 5 5 5 5 5 5 5 5 5 5 5 5 5 5 5\n",
            " 5 5 5 5 5 5 5 5 5 5 5 5 5 5 5 5 5 5 5 5 5 5 5 3 3 3 3 3 3 3 3 3 3 3 3 3 3\n",
            " 3 3 3 3 3 3 3 3 3 3 3 3 3 3 3 3 3 3 3 3 3 3 3 3 3 3 3 3 3 3 3 3 3 3 3 3 4\n",
            " 4 4 4 4 4 4 4 4 4 4 4 4 4 4 4 4 4 4 4 4 4 4 4 4 4 4 4 4 4 4 4 4 4 4 4 4 4\n",
            " 4 4 4 4 4 4 4 4 4 4 4 4 4 4 4 4 4 4 4 4 4 4 4 4 4 4 4 4 4 4 4 4 4 4 4 4 4\n",
            " 4 4 4 4 4 4 4 4 4 4 4 4 4 4 4 4 4 4 4 4 4 4 4 4 4 4 1 1 1 1 1 1 1 1 1 1 1\n",
            " 1 1 1 1 1 1 1 1 1 1 1 1 1 1 1 1 1 1 1 1 2 2 2 2 2 2 2 2 2 2 2 1 1 1 1 1 1\n",
            " 1 1 1 1 1 1 1]\n",
            "To_Categorical\n",
            "[[0. 1. 0. ... 0. 0. 0.]\n",
            " [0. 1. 0. ... 0. 0. 0.]\n",
            " [0. 1. 0. ... 0. 0. 0.]\n",
            " ...\n",
            " [0. 1. 0. ... 0. 0. 0.]\n",
            " [0. 1. 0. ... 0. 0. 0.]\n",
            " [0. 1. 0. ... 0. 0. 0.]]\n"
          ]
        }
      ],
      "source": [
        "le = LabelEncoder()\n",
        "labelEncode = le.fit_transform(df[\"Syndrome\"])\n",
        "print(\"LabelEncode\")\n",
        "print(labelEncode)\n",
        "categorical_y = to_categorical(labelEncode)\n",
        "print(\"To_Categorical\")\n",
        "print(categorical_y)"
      ]
    },
    {
      "cell_type": "code",
      "execution_count": null,
      "id": "fed55d20",
      "metadata": {
        "colab": {
          "base_uri": "https://localhost:8080/"
        },
        "id": "fed55d20",
        "outputId": "89fd6f22-2fc8-408f-cdfa-b393a936e352"
      },
      "outputs": [
        {
          "output_type": "stream",
          "name": "stdout",
          "text": [
            "7937\n"
          ]
        }
      ],
      "source": [
        "from collections import Counter\n",
        "\n",
        "words = df['Text_without_stopwords'].str.split(expand=True).stack().tolist()\n",
        "word_count = Counter(words)\n",
        "unique_words = len(word_count)\n",
        "print(unique_words)"
      ]
    },
    {
      "cell_type": "code",
      "execution_count": null,
      "id": "2c1f3c0a",
      "metadata": {
        "id": "2c1f3c0a"
      },
      "outputs": [],
      "source": [
        "MAX_FEATURES = 9000\n",
        "\n",
        "onehot_corpus = []\n",
        "for text in textList:  #создает список, который содержит представления текстов из списка textList в виде one-hot векторов\n",
        "    onehot_corpus.append(one_hot(text,MAX_FEATURES))\n",
        "\n",
        "maxTextLen = 0\n",
        "for text in textList:\n",
        "    word_token=word_tokenize(text)\n",
        "    if(maxTextLen < len(word_token)):\n",
        "        maxTextLen = len(word_token)\n",
        "\n",
        "print(\"Max number of words : \",maxTextLen)\n",
        "\n",
        "padded_corpus=pad_sequences(onehot_corpus,maxlen=maxTextLen,padding='post')\n",
        "x_train2,x_test2,y_train2,y_test2 = train_test_split(padded_corpus,categorical_y,test_size=0.2,random_state=42)"
      ]
    },
    {
      "cell_type": "code",
      "execution_count": null,
      "id": "fc458831",
      "metadata": {
        "id": "fc458831"
      },
      "outputs": [],
      "source": [
        "x_train2"
      ]
    },
    {
      "cell_type": "code",
      "execution_count": null,
      "id": "caf42f16",
      "metadata": {
        "id": "caf42f16"
      },
      "outputs": [],
      "source": [
        "def build_cnn_model():\n",
        "    model = Sequential()\n",
        "\n",
        "    model.add(Embedding(input_dim=MAX_FEATURES, output_dim=165, input_length=maxTextLen))\n",
        "\n",
        "    model.add(Dropout(0.25))\n",
        "    model.add(Conv1D(filters=250, kernel_size=3, activation='relu'))\n",
        "    # Добавляем слои полносвязной сети\n",
        "    model.add(GlobalMaxPooling1D(data_format ='channels_last'))\n",
        "    model.add(Dense(250, activation='relu'))\n",
        "    model.add(Dropout(0.25))\n",
        "    model.add(Dense(units=7,activation=\"softmax\"))\n",
        "\n",
        "    optimizer = Adam(lr=0.001,beta_1=0.9,beta_2=0.999)\n",
        "\n",
        "    model.compile(optimizer=optimizer,metrics=[\"accuracy\"],loss=categorical_crossentropy)\n",
        "    return model"
      ]
    },
    {
      "cell_type": "code",
      "execution_count": null,
      "id": "fa3541a1",
      "metadata": {
        "colab": {
          "base_uri": "https://localhost:8080/",
          "height": 865
        },
        "id": "fa3541a1",
        "outputId": "46a74f71-ee27-4232-f168-4a08b6fef7d8"
      },
      "outputs": [
        {
          "output_type": "execute_result",
          "data": {
            "image/png": "[encoded data removed]",
            "text/plain": [
              "<IPython.core.display.Image object>"
            ]
          },
          "metadata": {},
          "execution_count": 22
        }
      ],
      "source": [
        "cnn_model = build_cnn_model()\n",
        "plot_model(cnn_model,show_shapes=True)"
      ]
    },
    {
      "cell_type": "code",
      "source": [
        "cnn_model.summary()"
      ],
      "metadata": {
        "colab": {
          "base_uri": "https://localhost:8080/"
        },
        "id": "ZCvop-b_UGx5",
        "outputId": "009ce2e1-db05-42eb-af08-d60f57569f42"
      },
      "id": "ZCvop-b_UGx5",
      "execution_count": null,
      "outputs": [
        {
          "output_type": "stream",
          "name": "stdout",
          "text": [
            "Model: \"sequential\"\n",
            "_________________________________________________________________\n",
            " Layer (type)                Output Shape              Param #   \n",
            "=================================================================\n",
            " embedding (Embedding)       (None, 2976, 165)         1485000   \n",
            "                                                                 \n",
            " dropout (Dropout)           (None, 2976, 165)         0         \n",
            "                                                                 \n",
            " conv1d (Conv1D)             (None, 2974, 250)         124000    \n",
            "                                                                 \n",
            " global_max_pooling1d (Globa  (None, 250)              0         \n",
            " lMaxPooling1D)                                                  \n",
            "                                                                 \n",
            " dense (Dense)               (None, 250)               62750     \n",
            "                                                                 \n",
            " dropout_1 (Dropout)         (None, 250)               0         \n",
            "                                                                 \n",
            " dense_1 (Dense)             (None, 7)                 1757      \n",
            "                                                                 \n",
            "=================================================================\n",
            "Total params: 1,673,507\n",
            "Trainable params: 1,673,507\n",
            "Non-trainable params: 0\n",
            "_________________________________________________________________\n"
          ]
        }
      ]
    },
    {
      "cell_type": "code",
      "execution_count": null,
      "id": "0323bb66",
      "metadata": {
        "collapsed": true,
        "colab": {
          "base_uri": "https://localhost:8080/"
        },
        "id": "0323bb66",
        "outputId": "6597aab0-3325-4ddc-fdf4-59992c3d07e5"
      },
      "outputs": [
        {
          "output_type": "stream",
          "name": "stdout",
          "text": [
            "Epoch 1/200\n",
            "2/2 [==============================] - 53s 4s/step - loss: 1.9457 - accuracy: 0.1479\n",
            "Epoch 2/200\n",
            "2/2 [==============================] - 33s 3s/step - loss: 1.9158 - accuracy: 0.1937\n",
            "Epoch 3/200\n",
            "2/2 [==============================] - 31s 3s/step - loss: 1.9108 - accuracy: 0.1919\n",
            "Epoch 4/200\n",
            "2/2 [==============================] - 33s 3s/step - loss: 1.8978 - accuracy: 0.1989\n",
            "Epoch 5/200\n",
            "2/2 [==============================] - 35s 5s/step - loss: 1.8979 - accuracy: 0.1937\n",
            "Epoch 6/200\n",
            "2/2 [==============================] - 33s 3s/step - loss: 1.8868 - accuracy: 0.1937\n",
            "Epoch 7/200\n",
            "2/2 [==============================] - 33s 5s/step - loss: 1.8847 - accuracy: 0.2025\n",
            "Epoch 8/200\n",
            "2/2 [==============================] - 31s 3s/step - loss: 1.8841 - accuracy: 0.1937\n",
            "Epoch 9/200\n",
            "2/2 [==============================] - 33s 5s/step - loss: 1.8767 - accuracy: 0.2289\n",
            "Epoch 10/200\n",
            "2/2 [==============================] - 31s 3s/step - loss: 1.8634 - accuracy: 0.2447\n",
            "Epoch 11/200\n",
            "2/2 [==============================] - 34s 5s/step - loss: 1.8531 - accuracy: 0.2430\n",
            "Epoch 12/200\n",
            "2/2 [==============================] - 31s 3s/step - loss: 1.8325 - accuracy: 0.2852\n",
            "Epoch 13/200\n",
            "2/2 [==============================] - 33s 5s/step - loss: 1.8183 - accuracy: 0.3327\n",
            "Epoch 14/200\n",
            "2/2 [==============================] - 31s 3s/step - loss: 1.8049 - accuracy: 0.3979\n",
            "Epoch 15/200\n",
            "2/2 [==============================] - 32s 4s/step - loss: 1.7825 - accuracy: 0.4771\n",
            "Epoch 16/200\n",
            "2/2 [==============================] - 34s 4s/step - loss: 1.7653 - accuracy: 0.5158\n",
            "Epoch 17/200\n",
            "2/2 [==============================] - 31s 3s/step - loss: 1.7313 - accuracy: 0.5581\n",
            "Epoch 18/200\n",
            "2/2 [==============================] - 33s 4s/step - loss: 1.7022 - accuracy: 0.5757\n",
            "Epoch 19/200\n",
            "2/2 [==============================] - 31s 3s/step - loss: 1.6676 - accuracy: 0.5176\n",
            "Epoch 20/200\n",
            "2/2 [==============================] - 33s 3s/step - loss: 1.6359 - accuracy: 0.5246\n",
            "Epoch 21/200\n",
            "2/2 [==============================] - 33s 3s/step - loss: 1.5929 - accuracy: 0.5810\n",
            "Epoch 22/200\n",
            "2/2 [==============================] - 33s 3s/step - loss: 1.5378 - accuracy: 0.6338\n",
            "Epoch 23/200\n",
            "2/2 [==============================] - 31s 4s/step - loss: 1.4845 - accuracy: 0.6989\n",
            "Epoch 24/200\n",
            "2/2 [==============================] - 33s 4s/step - loss: 1.4295 - accuracy: 0.7324\n",
            "Epoch 25/200\n",
            "2/2 [==============================] - 31s 3s/step - loss: 1.3663 - accuracy: 0.7553\n",
            "Epoch 26/200\n",
            "2/2 [==============================] - 34s 3s/step - loss: 1.2970 - accuracy: 0.7711\n",
            "Epoch 27/200\n",
            "2/2 [==============================] - 32s 4s/step - loss: 1.2256 - accuracy: 0.7641\n",
            "Epoch 28/200\n",
            "2/2 [==============================] - 33s 4s/step - loss: 1.1619 - accuracy: 0.7658\n",
            "Epoch 29/200\n",
            "2/2 [==============================] - 32s 4s/step - loss: 1.0770 - accuracy: 0.7482\n",
            "Epoch 30/200\n",
            "2/2 [==============================] - 32s 3s/step - loss: 1.0256 - accuracy: 0.7518\n",
            "Epoch 31/200\n",
            "2/2 [==============================] - 34s 5s/step - loss: 0.9511 - accuracy: 0.7482\n",
            "Epoch 32/200\n",
            "2/2 [==============================] - 31s 3s/step - loss: 0.8847 - accuracy: 0.7711\n",
            "Epoch 33/200\n",
            "2/2 [==============================] - 33s 5s/step - loss: 0.8258 - accuracy: 0.7905\n",
            "Epoch 34/200\n",
            "2/2 [==============================] - 32s 4s/step - loss: 0.7643 - accuracy: 0.8187\n",
            "Epoch 35/200\n",
            "2/2 [==============================] - 33s 5s/step - loss: 0.7025 - accuracy: 0.8275\n",
            "Epoch 36/200\n",
            "2/2 [==============================] - 33s 3s/step - loss: 0.6485 - accuracy: 0.8574\n",
            "Epoch 37/200\n",
            "2/2 [==============================] - 33s 5s/step - loss: 0.5811 - accuracy: 0.8908\n",
            "Epoch 38/200\n",
            "2/2 [==============================] - 32s 3s/step - loss: 0.5163 - accuracy: 0.9208\n",
            "Epoch 39/200\n",
            "2/2 [==============================] - 33s 5s/step - loss: 0.4823 - accuracy: 0.9155\n",
            "Epoch 40/200\n",
            "2/2 [==============================] - 31s 3s/step - loss: 0.4234 - accuracy: 0.9384\n",
            "Epoch 41/200\n",
            "2/2 [==============================] - 34s 5s/step - loss: 0.3720 - accuracy: 0.9542\n",
            "Epoch 42/200\n",
            "2/2 [==============================] - 31s 4s/step - loss: 0.3269 - accuracy: 0.9542\n",
            "Epoch 43/200\n",
            "2/2 [==============================] - 33s 4s/step - loss: 0.2904 - accuracy: 0.9718\n",
            "Epoch 44/200\n",
            "2/2 [==============================] - 31s 3s/step - loss: 0.2537 - accuracy: 0.9789\n",
            "Epoch 45/200\n",
            "2/2 [==============================] - 33s 5s/step - loss: 0.2236 - accuracy: 0.9842\n",
            "Epoch 46/200\n",
            "2/2 [==============================] - 33s 3s/step - loss: 0.1929 - accuracy: 0.9930\n",
            "Epoch 47/200\n",
            "2/2 [==============================] - 33s 5s/step - loss: 0.1712 - accuracy: 0.9912\n",
            "Epoch 48/200\n",
            "2/2 [==============================] - 31s 3s/step - loss: 0.1454 - accuracy: 0.9982\n",
            "Epoch 49/200\n",
            "2/2 [==============================] - 33s 5s/step - loss: 0.1293 - accuracy: 0.9965\n",
            "Epoch 50/200\n",
            "2/2 [==============================] - 31s 3s/step - loss: 0.1132 - accuracy: 0.9965\n",
            "Epoch 51/200\n",
            "2/2 [==============================] - 34s 4s/step - loss: 0.0990 - accuracy: 1.0000\n",
            "Epoch 52/200\n",
            "2/2 [==============================] - 32s 3s/step - loss: 0.0810 - accuracy: 1.0000\n",
            "Epoch 53/200\n",
            "2/2 [==============================] - 33s 4s/step - loss: 0.0721 - accuracy: 1.0000\n",
            "Epoch 54/200\n",
            "2/2 [==============================] - 31s 3s/step - loss: 0.0633 - accuracy: 1.0000\n",
            "Epoch 55/200\n",
            "2/2 [==============================] - 33s 3s/step - loss: 0.0537 - accuracy: 1.0000\n",
            "Epoch 56/200\n",
            "2/2 [==============================] - 33s 4s/step - loss: 0.0487 - accuracy: 1.0000\n",
            "Epoch 57/200\n",
            "2/2 [==============================] - 32s 3s/step - loss: 0.0420 - accuracy: 1.0000\n",
            "Epoch 58/200\n",
            "2/2 [==============================] - 32s 4s/step - loss: 0.0353 - accuracy: 1.0000\n",
            "Epoch 59/200\n",
            "2/2 [==============================] - 32s 4s/step - loss: 0.0326 - accuracy: 1.0000\n",
            "Epoch 60/200\n",
            "2/2 [==============================] - 32s 4s/step - loss: 0.0294 - accuracy: 1.0000\n",
            "Epoch 61/200\n",
            "2/2 [==============================] - 34s 3s/step - loss: 0.0286 - accuracy: 1.0000\n",
            "Epoch 62/200\n",
            "2/2 [==============================] - 33s 5s/step - loss: 0.0257 - accuracy: 1.0000\n",
            "Epoch 63/200\n",
            "2/2 [==============================] - 31s 3s/step - loss: 0.0217 - accuracy: 1.0000\n",
            "Epoch 64/200\n",
            "2/2 [==============================] - 33s 5s/step - loss: 0.0211 - accuracy: 1.0000\n",
            "Epoch 65/200\n",
            "2/2 [==============================] - 32s 4s/step - loss: 0.0184 - accuracy: 1.0000\n",
            "Epoch 66/200\n",
            "2/2 [==============================] - 34s 5s/step - loss: 0.0195 - accuracy: 1.0000\n",
            "Epoch 67/200\n",
            "2/2 [==============================] - 31s 3s/step - loss: 0.0168 - accuracy: 1.0000\n",
            "Epoch 68/200\n",
            "2/2 [==============================] - 33s 5s/step - loss: 0.0157 - accuracy: 1.0000\n",
            "Epoch 69/200\n",
            "2/2 [==============================] - 31s 3s/step - loss: 0.0142 - accuracy: 1.0000\n",
            "Epoch 70/200\n",
            "2/2 [==============================] - 32s 5s/step - loss: 0.0133 - accuracy: 1.0000\n",
            "Epoch 71/200\n",
            "2/2 [==============================] - 33s 3s/step - loss: 0.0140 - accuracy: 1.0000\n",
            "Epoch 72/200\n",
            "2/2 [==============================] - 33s 5s/step - loss: 0.0114 - accuracy: 1.0000\n",
            "Epoch 73/200\n",
            "2/2 [==============================] - 31s 3s/step - loss: 0.0120 - accuracy: 1.0000\n",
            "Epoch 74/200\n",
            "2/2 [==============================] - 33s 5s/step - loss: 0.0115 - accuracy: 1.0000\n",
            "Epoch 75/200\n",
            "2/2 [==============================] - 31s 3s/step - loss: 0.0116 - accuracy: 1.0000\n",
            "Epoch 76/200\n",
            "2/2 [==============================] - 34s 5s/step - loss: 0.0090 - accuracy: 1.0000\n",
            "Epoch 77/200\n",
            "2/2 [==============================] - 32s 4s/step - loss: 0.0092 - accuracy: 1.0000\n",
            "Epoch 78/200\n",
            "2/2 [==============================] - 33s 5s/step - loss: 0.0099 - accuracy: 1.0000\n",
            "Epoch 79/200\n",
            "2/2 [==============================] - 31s 4s/step - loss: 0.0093 - accuracy: 1.0000\n",
            "Epoch 80/200\n",
            "2/2 [==============================] - 33s 5s/step - loss: 0.0083 - accuracy: 1.0000\n",
            "Epoch 81/200\n",
            "2/2 [==============================] - 33s 3s/step - loss: 0.0081 - accuracy: 1.0000\n",
            "Epoch 82/200\n",
            "2/2 [==============================] - 33s 5s/step - loss: 0.0075 - accuracy: 1.0000\n",
            "Epoch 83/200\n",
            "2/2 [==============================] - 32s 3s/step - loss: 0.0068 - accuracy: 1.0000\n",
            "Epoch 84/200\n",
            "2/2 [==============================] - 33s 5s/step - loss: 0.0068 - accuracy: 1.0000\n",
            "Epoch 85/200\n",
            "2/2 [==============================] - 32s 3s/step - loss: 0.0068 - accuracy: 1.0000\n",
            "Epoch 86/200\n",
            "2/2 [==============================] - 34s 5s/step - loss: 0.0064 - accuracy: 1.0000\n",
            "Epoch 87/200\n",
            "2/2 [==============================] - 31s 4s/step - loss: 0.0064 - accuracy: 1.0000\n",
            "Epoch 88/200\n",
            "2/2 [==============================] - 33s 5s/step - loss: 0.0059 - accuracy: 1.0000\n",
            "Epoch 89/200\n",
            "2/2 [==============================] - 31s 3s/step - loss: 0.0059 - accuracy: 1.0000\n",
            "Epoch 90/200\n",
            "2/2 [==============================] - 33s 5s/step - loss: 0.0057 - accuracy: 1.0000\n",
            "Epoch 91/200\n",
            "2/2 [==============================] - 33s 4s/step - loss: 0.0057 - accuracy: 1.0000\n",
            "Epoch 92/200\n",
            "2/2 [==============================] - 31s 3s/step - loss: 0.0057 - accuracy: 1.0000\n",
            "Epoch 93/200\n",
            "2/2 [==============================] - 33s 3s/step - loss: 0.0055 - accuracy: 1.0000\n",
            "Epoch 94/200\n",
            "2/2 [==============================] - 32s 4s/step - loss: 0.0051 - accuracy: 1.0000\n",
            "Epoch 95/200\n",
            "2/2 [==============================] - 34s 3s/step - loss: 0.0045 - accuracy: 1.0000\n",
            "Epoch 96/200\n",
            "2/2 [==============================] - 31s 4s/step - loss: 0.0048 - accuracy: 1.0000\n",
            "Epoch 97/200\n",
            "2/2 [==============================] - 33s 3s/step - loss: 0.0051 - accuracy: 1.0000\n",
            "Epoch 98/200\n",
            "2/2 [==============================] - 31s 3s/step - loss: 0.0049 - accuracy: 1.0000\n",
            "Epoch 99/200\n",
            "2/2 [==============================] - 33s 3s/step - loss: 0.0051 - accuracy: 1.0000\n",
            "Epoch 100/200\n",
            "2/2 [==============================] - 33s 3s/step - loss: 0.0041 - accuracy: 1.0000\n",
            "Epoch 101/200\n",
            "2/2 [==============================] - 33s 3s/step - loss: 0.0046 - accuracy: 1.0000\n",
            "Epoch 102/200\n",
            "2/2 [==============================] - 31s 3s/step - loss: 0.0048 - accuracy: 1.0000\n",
            "Epoch 103/200\n",
            "2/2 [==============================] - 33s 3s/step - loss: 0.0041 - accuracy: 1.0000\n",
            "Epoch 104/200\n",
            "2/2 [==============================] - 32s 3s/step - loss: 0.0037 - accuracy: 1.0000\n",
            "Epoch 105/200\n",
            "2/2 [==============================] - 34s 3s/step - loss: 0.0040 - accuracy: 1.0000\n",
            "Epoch 106/200\n",
            "2/2 [==============================] - 31s 3s/step - loss: 0.0042 - accuracy: 1.0000\n",
            "Epoch 107/200\n",
            "2/2 [==============================] - 33s 3s/step - loss: 0.0036 - accuracy: 1.0000\n",
            "Epoch 108/200\n",
            "2/2 [==============================] - 31s 4s/step - loss: 0.0037 - accuracy: 1.0000\n",
            "Epoch 109/200\n",
            "2/2 [==============================] - 32s 3s/step - loss: 0.0035 - accuracy: 1.0000\n",
            "Epoch 110/200\n",
            "2/2 [==============================] - 33s 3s/step - loss: 0.0041 - accuracy: 1.0000\n",
            "Epoch 111/200\n",
            "2/2 [==============================] - 33s 3s/step - loss: 0.0035 - accuracy: 1.0000\n",
            "Epoch 112/200\n",
            "2/2 [==============================] - 31s 3s/step - loss: 0.0034 - accuracy: 1.0000\n",
            "Epoch 113/200\n",
            "2/2 [==============================] - 33s 4s/step - loss: 0.0033 - accuracy: 1.0000\n",
            "Epoch 114/200\n",
            "2/2 [==============================] - 33s 5s/step - loss: 0.0030 - accuracy: 1.0000\n",
            "Epoch 115/200\n",
            "2/2 [==============================] - 32s 3s/step - loss: 0.0035 - accuracy: 1.0000\n",
            "Epoch 116/200\n",
            "2/2 [==============================] - 32s 4s/step - loss: 0.0029 - accuracy: 1.0000\n",
            "Epoch 117/200\n",
            "2/2 [==============================] - 33s 3s/step - loss: 0.0030 - accuracy: 1.0000\n",
            "Epoch 118/200\n",
            "2/2 [==============================] - 32s 4s/step - loss: 0.0031 - accuracy: 1.0000\n",
            "Epoch 119/200\n",
            "2/2 [==============================] - 33s 4s/step - loss: 0.0026 - accuracy: 1.0000\n",
            "Epoch 120/200\n",
            "2/2 [==============================] - 33s 5s/step - loss: 0.0025 - accuracy: 1.0000\n",
            "Epoch 121/200\n",
            "2/2 [==============================] - 32s 3s/step - loss: 0.0032 - accuracy: 1.0000\n",
            "Epoch 122/200\n",
            "2/2 [==============================] - 34s 6s/step - loss: 0.0030 - accuracy: 1.0000\n",
            "Epoch 123/200\n",
            "2/2 [==============================] - 42s 3s/step - loss: 0.0028 - accuracy: 1.0000\n",
            "Epoch 124/200\n",
            "2/2 [==============================] - 34s 5s/step - loss: 0.0026 - accuracy: 1.0000\n",
            "Epoch 125/200\n",
            "2/2 [==============================] - 31s 3s/step - loss: 0.0025 - accuracy: 1.0000\n",
            "Epoch 126/200\n",
            "2/2 [==============================] - 33s 5s/step - loss: 0.0024 - accuracy: 1.0000\n",
            "Epoch 127/200\n",
            "2/2 [==============================] - 31s 3s/step - loss: 0.0026 - accuracy: 1.0000\n",
            "Epoch 128/200\n",
            "2/2 [==============================] - 34s 5s/step - loss: 0.0025 - accuracy: 1.0000\n",
            "Epoch 129/200\n",
            "2/2 [==============================] - 41s 4s/step - loss: 0.0026 - accuracy: 1.0000\n",
            "Epoch 130/200\n",
            "2/2 [==============================] - 31s 3s/step - loss: 0.0028 - accuracy: 1.0000\n",
            "Epoch 131/200\n",
            "2/2 [==============================] - 33s 3s/step - loss: 0.0025 - accuracy: 1.0000\n",
            "Epoch 132/200\n",
            "2/2 [==============================] - 32s 4s/step - loss: 0.0024 - accuracy: 1.0000\n",
            "Epoch 133/200\n",
            "2/2 [==============================] - 34s 3s/step - loss: 0.0023 - accuracy: 1.0000\n",
            "Epoch 134/200\n",
            "2/2 [==============================] - 33s 5s/step - loss: 0.0020 - accuracy: 1.0000\n",
            "Epoch 135/200\n",
            "2/2 [==============================] - 31s 3s/step - loss: 0.0025 - accuracy: 1.0000\n",
            "Epoch 136/200\n",
            "2/2 [==============================] - 33s 5s/step - loss: 0.0024 - accuracy: 1.0000\n",
            "Epoch 137/200\n",
            "2/2 [==============================] - 32s 4s/step - loss: 0.0026 - accuracy: 1.0000\n",
            "Epoch 138/200\n",
            "2/2 [==============================] - 38s 6s/step - loss: 0.0022 - accuracy: 1.0000\n",
            "Epoch 139/200\n",
            "2/2 [==============================] - 33s 5s/step - loss: 0.0022 - accuracy: 1.0000\n",
            "Epoch 140/200\n",
            "2/2 [==============================] - 31s 3s/step - loss: 0.0020 - accuracy: 1.0000\n",
            "Epoch 141/200\n",
            "2/2 [==============================] - 32s 4s/step - loss: 0.0020 - accuracy: 1.0000\n",
            "Epoch 142/200\n",
            "2/2 [==============================] - 33s 3s/step - loss: 0.0020 - accuracy: 1.0000\n",
            "Epoch 143/200\n",
            "2/2 [==============================] - 33s 5s/step - loss: 0.0023 - accuracy: 1.0000\n",
            "Epoch 144/200\n",
            "2/2 [==============================] - 31s 3s/step - loss: 0.0019 - accuracy: 1.0000\n",
            "Epoch 145/200\n",
            "2/2 [==============================] - 33s 5s/step - loss: 0.0020 - accuracy: 1.0000\n",
            "Epoch 146/200\n",
            "2/2 [==============================] - 32s 3s/step - loss: 0.0018 - accuracy: 1.0000\n",
            "Epoch 147/200\n",
            "2/2 [==============================] - 34s 5s/step - loss: 0.0019 - accuracy: 1.0000\n",
            "Epoch 148/200\n",
            "2/2 [==============================] - 31s 4s/step - loss: 0.0017 - accuracy: 1.0000\n",
            "Epoch 149/200\n",
            "2/2 [==============================] - 33s 5s/step - loss: 0.0018 - accuracy: 1.0000\n",
            "Epoch 150/200\n",
            "2/2 [==============================] - 31s 4s/step - loss: 0.0017 - accuracy: 1.0000\n",
            "Epoch 151/200\n",
            "2/2 [==============================] - 33s 5s/step - loss: 0.0017 - accuracy: 1.0000\n",
            "Epoch 152/200\n",
            "2/2 [==============================] - 33s 3s/step - loss: 0.0015 - accuracy: 1.0000\n",
            "Epoch 153/200\n",
            "2/2 [==============================] - 33s 4s/step - loss: 0.0016 - accuracy: 1.0000\n",
            "Epoch 154/200\n",
            "2/2 [==============================] - 31s 3s/step - loss: 0.0016 - accuracy: 1.0000\n",
            "Epoch 155/200\n",
            "2/2 [==============================] - 33s 5s/step - loss: 0.0017 - accuracy: 1.0000\n",
            "Epoch 156/200\n",
            "2/2 [==============================] - 33s 4s/step - loss: 0.0017 - accuracy: 1.0000\n",
            "Epoch 157/200\n",
            "2/2 [==============================] - 33s 3s/step - loss: 0.0018 - accuracy: 1.0000\n",
            "Epoch 158/200\n",
            "2/2 [==============================] - 32s 3s/step - loss: 0.0015 - accuracy: 1.0000\n",
            "Epoch 159/200\n",
            "2/2 [==============================] - 33s 4s/step - loss: 0.0015 - accuracy: 1.0000\n",
            "Epoch 160/200\n",
            "2/2 [==============================] - 31s 4s/step - loss: 0.0014 - accuracy: 1.0000\n",
            "Epoch 161/200\n",
            "2/2 [==============================] - 34s 3s/step - loss: 0.0017 - accuracy: 1.0000\n",
            "Epoch 162/200\n",
            "2/2 [==============================] - 32s 4s/step - loss: 0.0016 - accuracy: 1.0000\n",
            "Epoch 163/200\n",
            "2/2 [==============================] - 33s 4s/step - loss: 0.0016 - accuracy: 1.0000\n",
            "Epoch 164/200\n",
            "2/2 [==============================] - 32s 4s/step - loss: 0.0015 - accuracy: 1.0000\n",
            "Epoch 165/200\n",
            "2/2 [==============================] - 32s 3s/step - loss: 0.0013 - accuracy: 1.0000\n",
            "Epoch 166/200\n",
            "2/2 [==============================] - 34s 5s/step - loss: 0.0015 - accuracy: 1.0000\n",
            "Epoch 167/200\n",
            "2/2 [==============================] - 31s 3s/step - loss: 0.0013 - accuracy: 1.0000\n",
            "Epoch 168/200\n",
            "2/2 [==============================] - 33s 5s/step - loss: 0.0013 - accuracy: 1.0000\n",
            "Epoch 169/200\n",
            "2/2 [==============================] - 31s 3s/step - loss: 0.0013 - accuracy: 1.0000\n",
            "Epoch 170/200\n",
            "2/2 [==============================] - 33s 5s/step - loss: 0.0015 - accuracy: 1.0000\n",
            "Epoch 171/200\n",
            "2/2 [==============================] - 33s 4s/step - loss: 0.0014 - accuracy: 1.0000\n",
            "Epoch 172/200\n",
            "2/2 [==============================] - 33s 5s/step - loss: 0.0014 - accuracy: 1.0000\n",
            "Epoch 173/200\n",
            "2/2 [==============================] - 32s 3s/step - loss: 0.0013 - accuracy: 1.0000\n",
            "Epoch 174/200\n",
            "2/2 [==============================] - 33s 5s/step - loss: 0.0012 - accuracy: 1.0000\n",
            "Epoch 175/200\n",
            "2/2 [==============================] - 33s 4s/step - loss: 0.0012 - accuracy: 1.0000\n",
            "Epoch 176/200\n",
            "2/2 [==============================] - 33s 4s/step - loss: 0.0012 - accuracy: 1.0000\n",
            "Epoch 177/200\n",
            "2/2 [==============================] - 31s 3s/step - loss: 0.0012 - accuracy: 1.0000\n",
            "Epoch 178/200\n",
            "2/2 [==============================] - 33s 3s/step - loss: 0.0012 - accuracy: 1.0000\n",
            "Epoch 179/200\n",
            "2/2 [==============================] - 32s 3s/step - loss: 0.0011 - accuracy: 1.0000\n",
            "Epoch 180/200\n",
            "2/2 [==============================] - 34s 3s/step - loss: 0.0010 - accuracy: 1.0000\n",
            "Epoch 181/200\n",
            "2/2 [==============================] - 32s 4s/step - loss: 0.0012 - accuracy: 1.0000\n",
            "Epoch 182/200\n",
            "2/2 [==============================] - 32s 3s/step - loss: 0.0010 - accuracy: 1.0000\n",
            "Epoch 183/200\n",
            "2/2 [==============================] - 32s 4s/step - loss: 0.0011 - accuracy: 1.0000\n",
            "Epoch 184/200\n",
            "2/2 [==============================] - 32s 3s/step - loss: 0.0011 - accuracy: 1.0000\n",
            "Epoch 185/200\n",
            "2/2 [==============================] - 34s 5s/step - loss: 0.0010 - accuracy: 1.0000\n",
            "Epoch 186/200\n",
            "2/2 [==============================] - 31s 3s/step - loss: 0.0011 - accuracy: 1.0000\n",
            "Epoch 187/200\n",
            "2/2 [==============================] - 33s 5s/step - loss: 0.0011 - accuracy: 1.0000\n",
            "Epoch 188/200\n",
            "2/2 [==============================] - 31s 4s/step - loss: 0.0011 - accuracy: 1.0000\n",
            "Epoch 189/200\n",
            "2/2 [==============================] - 34s 5s/step - loss: 9.6609e-04 - accuracy: 1.0000\n",
            "Epoch 190/200\n",
            "2/2 [==============================] - 32s 3s/step - loss: 9.6963e-04 - accuracy: 1.0000\n",
            "Epoch 191/200\n",
            "2/2 [==============================] - 33s 5s/step - loss: 0.0011 - accuracy: 1.0000\n",
            "Epoch 192/200\n",
            "2/2 [==============================] - 31s 4s/step - loss: 9.7234e-04 - accuracy: 1.0000\n",
            "Epoch 193/200\n",
            "2/2 [==============================] - 32s 5s/step - loss: 9.4266e-04 - accuracy: 1.0000\n",
            "Epoch 194/200\n",
            "2/2 [==============================] - 31s 3s/step - loss: 8.3496e-04 - accuracy: 1.0000\n",
            "Epoch 195/200\n",
            "2/2 [==============================] - 34s 5s/step - loss: 8.7074e-04 - accuracy: 1.0000\n",
            "Epoch 196/200\n",
            "2/2 [==============================] - 31s 3s/step - loss: 9.6400e-04 - accuracy: 1.0000\n",
            "Epoch 197/200\n",
            "2/2 [==============================] - 32s 4s/step - loss: 8.7185e-04 - accuracy: 1.0000\n",
            "Epoch 198/200\n",
            "2/2 [==============================] - 32s 3s/step - loss: 9.6272e-04 - accuracy: 1.0000\n",
            "Epoch 199/200\n",
            "2/2 [==============================] - 32s 4s/step - loss: 9.1201e-04 - accuracy: 1.0000\n",
            "Epoch 200/200\n",
            "2/2 [==============================] - 33s 3s/step - loss: 8.1938e-04 - accuracy: 1.0000\n",
            "5/5 [==============================] - 2s 376ms/step\n"
          ]
        }
      ],
      "source": [
        "cnn_history = cnn_model.fit(x_train2,y_train2,epochs=200,batch_size=500,shuffle=True)\n",
        "ypred2 = cnn_model.predict(x_test2)"
      ]
    },
    {
      "cell_type": "code",
      "execution_count": null,
      "id": "bb54d5ac",
      "metadata": {
        "colab": {
          "base_uri": "https://localhost:8080/",
          "height": 1000
        },
        "id": "bb54d5ac",
        "outputId": "f4108577-d43c-4894-f239-86b3ffd35641"
      },
      "outputs": [
        {
          "output_type": "display_data",
          "data": {
            "text/plain": [
              "<Figure size 1800x1400 with 1 Axes>"
            ],
            "image/png": "[encoded data removed]"
          },
          "metadata": {}
        }
      ],
      "source": [
        "cnn_accuracy = accuracy_score(y_test2.argmax(axis=1),ypred2.argmax(axis=1))\n",
        "#print(\"CNN Accuracy:\",cnn_accuracy)\n",
        "cnn_cn = confusion_matrix(y_test2.argmax(axis=1),ypred2.argmax(axis=1))\n",
        "plt.subplots(figsize=(18,14))\n",
        "sns.heatmap(cnn_cn,annot=True,fmt=\"1d\",cbar=False,xticklabels=le.classes_,yticklabels=le.classes_)\n",
        "plt.title(\"CNN Accuracy: {}\".format(cnn_accuracy),fontsize=50)\n",
        "plt.xlabel(\"Predicted\",fontsize=15)\n",
        "plt.ylabel(\"Actual\",fontsize=15)\n",
        "plt.show()"
      ]
    },
    {
      "cell_type": "code",
      "execution_count": null,
      "id": "f07ce1a8",
      "metadata": {
        "colab": {
          "base_uri": "https://localhost:8080/"
        },
        "id": "f07ce1a8",
        "outputId": "7988932c-f29b-4c51-8161-9a684a697f59"
      },
      "outputs": [
        {
          "output_type": "stream",
          "name": "stdout",
          "text": [
            "F1 Score (weighted avg): 0.6719044784468946\n",
            "F1 Score (macro avg): 0.6852909729525292\n"
          ]
        }
      ],
      "source": [
        "from sklearn.metrics import f1_score\n",
        "\n",
        "f1 = f1_score(y_test2.argmax(axis=1), ypred2.argmax(axis=1), average='weighted')\n",
        "print(\"F1 Score (weighted avg):\", f1)\n",
        "f1_macro = f1_score(y_test2.argmax(axis=1), ypred2.argmax(axis=1), average='macro')\n",
        "print(\"F1 Score (macro avg):\", f1_macro)"
      ]
    },
    {
      "cell_type": "code",
      "execution_count": null,
      "id": "316d60f4",
      "metadata": {
        "id": "316d60f4"
      },
      "outputs": [],
      "source": [
        "cnn_model.save('model_w2.h5')"
      ]
    },
    {
      "cell_type": "code",
      "source": [],
      "metadata": {
        "id": "3qj8CwVXTvng"
      },
      "id": "3qj8CwVXTvng",
      "execution_count": null,
      "outputs": []
    }
  ],
  "metadata": {
    "kernelspec": {
      "display_name": "Python 3 (ipykernel)",
      "language": "python",
      "name": "python3"
    },
    "language_info": {
      "codemirror_mode": {
        "name": "ipython",
        "version": 3
      },
      "file_extension": ".py",
      "mimetype": "text/x-python",
      "name": "python",
      "nbconvert_exporter": "python",
      "pygments_lexer": "ipython3",
      "version": "3.10.9"
    },
    "colab": {
      "provenance": []
    }
  },
  "nbformat": 4,
  "nbformat_minor": 5
}